{
 "cells": [
  {
   "cell_type": "markdown",
   "metadata": {},
   "source": [
    "Q1"
   ]
  },
  {
   "cell_type": "code",
   "execution_count": 12,
   "metadata": {},
   "outputs": [],
   "source": [
    "#Bank account\n",
    "class bank_account():\n",
    "    def __init__(self,owner_name,balance):\n",
    "        self.name = owner_name \n",
    "        self.balance = balance\n",
    "    def getDetails(self):\n",
    "        print(\"Owner name- \",self.name)\n",
    "        print(\"Balance- \", self.balance)\n",
    "    def deposit(self):\n",
    "        d=int(input(\"Enter the amount to deposit- \"))\n",
    "        self.balance=d+self.balance\n",
    "        print(\"You total amount- \",self.balance)\n",
    "    def withdraw(self):\n",
    "        w=int(input(\"Enter the amount to withdraw- \"))\n",
    "        self.balance= self.balance-w\n",
    "        print(\"You total amount- \",self.balance)\n"
   ]
  },
  {
   "cell_type": "code",
   "execution_count": 13,
   "metadata": {},
   "outputs": [],
   "source": [
    "user=bank_account(\"Raju\",1000)"
   ]
  },
  {
   "cell_type": "code",
   "execution_count": 14,
   "metadata": {},
   "outputs": [
    {
     "name": "stdout",
     "output_type": "stream",
     "text": [
      "Owner name-  Raju\n",
      "Balance-  1000\n"
     ]
    }
   ],
   "source": [
    "user.getDetails()"
   ]
  },
  {
   "cell_type": "code",
   "execution_count": 15,
   "metadata": {},
   "outputs": [
    {
     "name": "stdout",
     "output_type": "stream",
     "text": [
      "Enter the amount to deposit- 1000\n",
      "You total amount-  2000\n"
     ]
    }
   ],
   "source": [
    "user.deposit()"
   ]
  },
  {
   "cell_type": "code",
   "execution_count": 16,
   "metadata": {},
   "outputs": [
    {
     "name": "stdout",
     "output_type": "stream",
     "text": [
      "Owner name-  Raju\n",
      "Balance-  2000\n"
     ]
    }
   ],
   "source": [
    "user.getDetails()"
   ]
  },
  {
   "cell_type": "code",
   "execution_count": 17,
   "metadata": {},
   "outputs": [
    {
     "name": "stdout",
     "output_type": "stream",
     "text": [
      "Enter the amount to withdraw- 500\n",
      "You total amount-  1500\n"
     ]
    }
   ],
   "source": [
    "user.withdraw()"
   ]
  },
  {
   "cell_type": "code",
   "execution_count": 18,
   "metadata": {},
   "outputs": [
    {
     "name": "stdout",
     "output_type": "stream",
     "text": [
      "Owner name-  Raju\n",
      "Balance-  1500\n"
     ]
    }
   ],
   "source": [
    "user.getDetails()"
   ]
  },
  {
   "cell_type": "markdown",
   "metadata": {},
   "source": [
    "Q2"
   ]
  },
  {
   "cell_type": "code",
   "execution_count": 2,
   "metadata": {},
   "outputs": [],
   "source": [
    "#Cone \n",
    "import math\n",
    "class cone():\n",
    "    def __init__(self,R,H):\n",
    "        self.radius = R \n",
    "        self.height = H\n",
    "    def volume(self):\n",
    "        v=3.14*pow(self.radius,2)*self.height/3\n",
    "        print(\"Volume- \",v)\n",
    "    def surface_area(self):\n",
    "        s=3.14*self.radius*(self.radius+math.sqrt(pow(self.radius,2)+pow(self.height,2)))\n",
    "        print(\"Surface area- \",s)"
   ]
  },
  {
   "cell_type": "code",
   "execution_count": 3,
   "metadata": {},
   "outputs": [],
   "source": [
    "Cone=cone(5,3)"
   ]
  },
  {
   "cell_type": "code",
   "execution_count": 4,
   "metadata": {},
   "outputs": [
    {
     "name": "stdout",
     "output_type": "stream",
     "text": [
      "Volume-  78.5\n"
     ]
    }
   ],
   "source": [
    "Cone.volume()"
   ]
  },
  {
   "cell_type": "code",
   "execution_count": 5,
   "metadata": {},
   "outputs": [
    {
     "name": "stdout",
     "output_type": "stream",
     "text": [
      "Surface area-  170.04594474907123\n"
     ]
    }
   ],
   "source": [
    "Cone.surface_area()"
   ]
  }
 ],
 "metadata": {
  "kernelspec": {
   "display_name": "Python 3",
   "language": "python",
   "name": "python3"
  },
  "language_info": {
   "codemirror_mode": {
    "name": "ipython",
    "version": 3
   },
   "file_extension": ".py",
   "mimetype": "text/x-python",
   "name": "python",
   "nbconvert_exporter": "python",
   "pygments_lexer": "ipython3",
   "version": "3.8.3"
  }
 },
 "nbformat": 4,
 "nbformat_minor": 4
}
