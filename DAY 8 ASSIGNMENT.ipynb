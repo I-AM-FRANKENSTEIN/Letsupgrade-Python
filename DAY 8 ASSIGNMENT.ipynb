{
 "cells": [
  {
   "cell_type": "markdown",
   "metadata": {},
   "source": [
    "Q1"
   ]
  },
  {
   "cell_type": "code",
   "execution_count": 14,
   "metadata": {},
   "outputs": [],
   "source": [
    "#decorators for fibonacci series\n",
    "def Input(cal_arg_fun):\n",
    "    def wrap_function():\n",
    "        l = int(input(\"Enter lower limit- \"))\n",
    "        n = int(input(\"Enter upper limt- \"))\n",
    "        cal_arg_fun(l,n)   \n",
    "    return wrap_function\n"
   ]
  },
  {
   "cell_type": "code",
   "execution_count": 29,
   "metadata": {},
   "outputs": [],
   "source": [
    "@Input\n",
    "def fibonacci(lower,term):\n",
    "    print(\"Fibonacci sequence - \",end=\" \")\n",
    "    count = 0\n",
    "    if(lower>=1):\n",
    "        first = lower-1\n",
    "    while count<term:\n",
    "            print(first,end=\",\")\n",
    "            final = first+lower\n",
    "            first = lower \n",
    "            lower  = final\n",
    "            count+=1"
   ]
  },
  {
   "cell_type": "code",
   "execution_count": 30,
   "metadata": {},
   "outputs": [
    {
     "name": "stdout",
     "output_type": "stream",
     "text": [
      "Enter lower limit- 4\n",
      "Enter upper limt- 10\n",
      "Fibonacci sequence -  3,4,7,11,18,29,47,76,123,199,"
     ]
    }
   ],
   "source": [
    "fibonacci()"
   ]
  },
  {
   "cell_type": "markdown",
   "metadata": {},
   "source": [
    "Q2"
   ]
  },
  {
   "cell_type": "code",
   "execution_count": 17,
   "metadata": {},
   "outputs": [
    {
     "name": "stdout",
     "output_type": "stream",
     "text": [
      "not writable\n",
      "Exception Handling in File\n"
     ]
    }
   ],
   "source": [
    "#Exception Handling in file\n",
    "try:\n",
    "    file = open(\"prime_no_checker.py\",\"r\")\n",
    "    file.write(\"Hello World\")\n",
    "    file.close()\n",
    "    print(\"SUCCESS\")\n",
    "except Exception as e:\n",
    "        print(e)\n",
    "finally:\n",
    "    print(\"Exception Handling in File\")"
   ]
  }
 ],
 "metadata": {
  "kernelspec": {
   "display_name": "Python 3",
   "language": "python",
   "name": "python3"
  },
  "language_info": {
   "codemirror_mode": {
    "name": "ipython",
    "version": 3
   },
   "file_extension": ".py",
   "mimetype": "text/x-python",
   "name": "python",
   "nbconvert_exporter": "python",
   "pygments_lexer": "ipython3",
   "version": "3.8.3"
  }
 },
 "nbformat": 4,
 "nbformat_minor": 4
}
