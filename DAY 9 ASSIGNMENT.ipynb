{
 "cells": [
  {
   "cell_type": "code",
   "execution_count": 1,
   "metadata": {},
   "outputs": [
    {
     "name": "stdout",
     "output_type": "stream",
     "text": [
      "Requirement already satisfied: pylint in c:\\users\\kiit\\anaconda3\\lib\\site-packages (2.5.3)\n",
      "Requirement already satisfied: isort<5,>=4.2.5 in c:\\users\\kiit\\anaconda3\\lib\\site-packages (from pylint) (4.3.21)\n",
      "Requirement already satisfied: colorama; sys_platform == \"win32\" in c:\\users\\kiit\\anaconda3\\lib\\site-packages (from pylint) (0.4.3)\n",
      "Requirement already satisfied: toml>=0.7.1 in c:\\users\\kiit\\anaconda3\\lib\\site-packages (from pylint) (0.10.1)\n",
      "Requirement already satisfied: astroid<=2.5,>=2.4.0 in c:\\users\\kiit\\anaconda3\\lib\\site-packages (from pylint) (2.4.2)\n",
      "Requirement already satisfied: mccabe<0.7,>=0.6 in c:\\users\\kiit\\anaconda3\\lib\\site-packages (from pylint) (0.6.1)\n",
      "Requirement already satisfied: wrapt~=1.11 in c:\\users\\kiit\\anaconda3\\lib\\site-packages (from astroid<=2.5,>=2.4.0->pylint) (1.11.2)\n",
      "Requirement already satisfied: six~=1.12 in c:\\users\\kiit\\anaconda3\\lib\\site-packages (from astroid<=2.5,>=2.4.0->pylint) (1.15.0)\n",
      "Requirement already satisfied: lazy-object-proxy==1.4.* in c:\\users\\kiit\\anaconda3\\lib\\site-packages (from astroid<=2.5,>=2.4.0->pylint) (1.4.3)\n"
     ]
    }
   ],
   "source": [
    "! pip install pylint"
   ]
  },
  {
   "cell_type": "markdown",
   "metadata": {},
   "source": [
    "Q1"
   ]
  },
  {
   "cell_type": "code",
   "execution_count": null,
   "metadata": {},
   "outputs": [],
   "source": [
    " # unit testing of prime no. checking function using Unittest"
   ]
  },
  {
   "cell_type": "code",
   "execution_count": 58,
   "metadata": {},
   "outputs": [
    {
     "name": "stdout",
     "output_type": "stream",
     "text": [
      "Overwriting prime_no_checker.py\n"
     ]
    }
   ],
   "source": [
    "%%writefile prime_no_checker.py\n",
    "'''\n",
    "prime_no_checker.py\n",
    "'''\n",
    "def is_prime(num):\n",
    "    '''\n",
    "    is_prime() to check whether a number is prime or not\n",
    "    '''\n",
    "    f_l_a_g = 0\n",
    "    for i in range(2, num):\n",
    "        if num%i == 0:\n",
    "            f_l_a_g += 1\n",
    "    if f_l_a_g == 0:\n",
    "        return True\n",
    "    return False"
   ]
  },
  {
   "cell_type": "code",
   "execution_count": 59,
   "metadata": {},
   "outputs": [
    {
     "name": "stdout",
     "output_type": "stream",
     "text": [
      "\n",
      "-------------------------------------------------------------------\n",
      "\n",
      "Your code has been rated at 10.00/10 (previous run: 8.57/10, +1.43)\n",
      "\n",
      "\n",
      "\n"
     ]
    }
   ],
   "source": [
    "! pylint \"prime_no_checker.py\""
   ]
  },
  {
   "cell_type": "code",
   "execution_count": 20,
   "metadata": {},
   "outputs": [],
   "source": [
    "# unit testing of prime no. checking function using Unittest"
   ]
  },
  {
   "cell_type": "code",
   "execution_count": 81,
   "metadata": {},
   "outputs": [
    {
     "name": "stdout",
     "output_type": "stream",
     "text": [
      "Overwriting test_prime_no_checker.py\n"
     ]
    }
   ],
   "source": [
    "%%writefile test_prime_no_checker.py\n",
    "import unittest\n",
    "import prime_no_checker\n",
    "class testCapTitle(unittest.TestCase):\n",
    "    def test_prime_no(self):\n",
    "        a = 7\n",
    "        result = prime_no_checker.is_prime(a)\n",
    "        self.assertEquals(result,True)\n",
    "if __name__ == \"__main__\":\n",
    "    unittest.main()"
   ]
  },
  {
   "cell_type": "code",
   "execution_count": 82,
   "metadata": {},
   "outputs": [
    {
     "name": "stderr",
     "output_type": "stream",
     "text": [
      "test_prime_no_checker.py:7: DeprecationWarning: Please use assertEqual instead.\n",
      "  self.assertEquals(result,True)\n",
      ".\n",
      "----------------------------------------------------------------------\n",
      "Ran 1 test in 0.001s\n",
      "\n",
      "OK\n"
     ]
    }
   ],
   "source": [
    "! python test_prime_no_checker.py"
   ]
  },
  {
   "cell_type": "markdown",
   "metadata": {},
   "source": [
    "Q2"
   ]
  },
  {
   "cell_type": "code",
   "execution_count": 17,
   "metadata": {},
   "outputs": [
    {
     "name": "stdout",
     "output_type": "stream",
     "text": [
      "[1, 153, 370, 371, 407]\n"
     ]
    }
   ],
   "source": [
    "def armstrong_number(lst):\n",
    "    for i in lst:\n",
    "        s = 0\n",
    "        temp = i\n",
    "        while temp > 0:\n",
    "            digit = temp % 10\n",
    "            s += digit ** 3\n",
    "            temp //= 10\n",
    "        if i == s:\n",
    "            yield i\n",
    "\n",
    "lst=list(range(1,1001))\n",
    "print(list(armstrong_number(lst)))"
   ]
  }
 ],
 "metadata": {
  "kernelspec": {
   "display_name": "Python 3",
   "language": "python",
   "name": "python3"
  },
  "language_info": {
   "codemirror_mode": {
    "name": "ipython",
    "version": 3
   },
   "file_extension": ".py",
   "mimetype": "text/x-python",
   "name": "python",
   "nbconvert_exporter": "python",
   "pygments_lexer": "ipython3",
   "version": "3.8.3"
  }
 },
 "nbformat": 4,
 "nbformat_minor": 4
}
